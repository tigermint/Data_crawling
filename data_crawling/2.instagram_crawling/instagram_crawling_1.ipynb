{
 "cells": [
  {
   "cell_type": "code",
   "execution_count": 9,
   "id": "87a3649f",
   "metadata": {
    "scrolled": false
   },
   "outputs": [],
   "source": [
    "# 파이썬으로 크롬 제어하기 - chromedriver\n",
    "from selenium import webdriver \n",
    "# 셀레니움으로부터 설치한 크롬 webdriver을 import 한다 (selenium은 webdriver api를 통해 디바이스에 설치된 브라우저들을 제어할 수 있다)\n",
    "driver = webdriver.Chrome(\"C:/Users/SAMSUNG/Desktop/2021KnuPython/step2/chromedriver\") \n",
    "# driver이라는 객체를 만들어준다"
   ]
  },
  {
   "cell_type": "code",
   "execution_count": 10,
   "id": "c9bdc643",
   "metadata": {},
   "outputs": [],
   "source": [
    "import time\n",
    "\n",
    "# 인스타그램 접속하기\n",
    "driver.get(\"https://www.instagram.com\") # get method : url에 접근하는 method\n",
    "#selenium은 driver객체를 통해 여러 메소드 제공한다(driver.~~~형식)\n",
    "# 정보를 로딩하는 시간을 기다리기\n",
    "time.sleep(2)"
   ]
  },
  {
   "cell_type": "code",
   "execution_count": 11,
   "id": "948030b3",
   "metadata": {},
   "outputs": [],
   "source": [
    "# 인스타그램 로그인하기\n",
    "email = \"haedalbot1108\"\n",
    "input_id = driver.find_elements_by_css_selector(\"input._2hvTZ.pexuQ.zyHYP\")[0]\n",
    "input_id.clear()\n",
    "input_id.send_keys(email)\n",
    "\n",
    "password = \"qwer1234!\"\n",
    "input_pw = driver.find_elements_by_css_selector(\"input._2hvTZ.pexuQ.zyHYP\")[1]\n",
    "input_pw.clear()\n",
    "input_pw.send_keys(password)\n",
    "input_pw.submit()\n",
    "time.sleep(3)"
   ]
  },
  {
   "cell_type": "code",
   "execution_count": 12,
   "id": "efd46a1e",
   "metadata": {},
   "outputs": [],
   "source": [
    "# 검색결과 URL 만들기 with 함수\n",
    "def insta_searching(word):\n",
    "    url = \"https://www.instagram.com/explore/tags/\" + word\n",
    "    return url"
   ]
  },
  {
   "cell_type": "code",
   "execution_count": 13,
   "id": "513c2610",
   "metadata": {},
   "outputs": [],
   "source": [
    "# 검색결과 페이지 접속하기\n",
    "word = \"대구카페\"\n",
    "url = insta_searching(word)\n",
    "driver.get(url)"
   ]
  },
  {
   "cell_type": "code",
   "execution_count": 15,
   "id": "25750d60",
   "metadata": {},
   "outputs": [],
   "source": [
    "# html에서 첫번쨰 게시글 찾아 클릭하기\n",
    "def select_first(driver):\n",
    "    first = driver.find_element_by_css_selector(\"div._9AhH0\")\n",
    "    first.click()\n",
    "    time.sleep(3)\n",
    "    \n",
    "select_first(driver)"
   ]
  },
  {
   "cell_type": "code",
   "execution_count": 29,
   "id": "ee39cda8",
   "metadata": {},
   "outputs": [
    {
     "data": {
      "text/plain": [
       "['오랜만에 아눅새로운 메뉴가 있었구나, 역시 맛은💚-#아눅#anook#대명동#대명동카페#앞산#앞산카페#대구#대구카페#대구신상카페#신상카페#카페#카페투어#카페스타그램#커피#디저트#샌드위치#브런치#베이커리#일상#분위기#coffee#cafe#dessert#brunch#bakery#daily',\n",
       " '2021-08-14',\n",
       " '141',\n",
       " '아눅앞산',\n",
       " ['#아눅',\n",
       "  '#anook',\n",
       "  '#대명동',\n",
       "  '#대명동카페',\n",
       "  '#앞산',\n",
       "  '#앞산카페',\n",
       "  '#대구',\n",
       "  '#대구카페',\n",
       "  '#대구신상카페',\n",
       "  '#신상카페',\n",
       "  '#카페',\n",
       "  '#카페투어',\n",
       "  '#카페스타그램',\n",
       "  '#커피',\n",
       "  '#디저트',\n",
       "  '#샌드위치',\n",
       "  '#브런치',\n",
       "  '#베이커리',\n",
       "  '#일상',\n",
       "  '#분위기',\n",
       "  '#coffee',\n",
       "  '#cafe',\n",
       "  '#dessert',\n",
       "  '#brunch',\n",
       "  '#bakery',\n",
       "  '#daily']]"
      ]
     },
     "execution_count": 29,
     "metadata": {},
     "output_type": "execute_result"
    }
   ],
   "source": [
    "# 게시글 정보 가져오기\n",
    "import re\n",
    "from bs4 import BeautifulSoup\n",
    "import unicodedata\n",
    "\n",
    "def get_content(driver):\n",
    "    # 1. 현재 페이지 html 정보 가져오기\n",
    "    html = driver.page_source\n",
    "    soup = BeautifulSoup(html, \"html.parser\")\n",
    "    # 2. 본문 내용 가져오기\n",
    "    try:\n",
    "        content = soup.select('div.C4VMK > span')[0].text\n",
    "        # content = unicodedata.normallize('NFC', content)\n",
    "    except:\n",
    "        content = ' '\n",
    "    # 3. 본문 내용에서 해시태그를 가져오기(정규식 활용)\n",
    "    tags = re.findall(r\"#[^\\s#,\\\\]+\", content)\n",
    "    # 4. 작성일자 정보 가져오기\n",
    "    try:\n",
    "        date = soup.select(\"time._1o9PC.Nzb55\")[0][\"datetime\"][:10]\n",
    "    except:\n",
    "        date = \" \"\n",
    "    # 5. 좋아요 수 가져오기\n",
    "    try:\n",
    "        like = soup.select(\"div.Nm9Fw\")[0].text.split(\" \")[1].split(\"개\")[0]\n",
    "    except:\n",
    "        like = 0\n",
    "    # 6. 위치정보 가져오기\n",
    "    try:\n",
    "        place = soup.select(\"div.JF9hh\")[0].text\n",
    "        place = unicodedata.normalize(\"NFC\", place)\n",
    "    except:\n",
    "        place = \" \"\n",
    "    # 7. 수집한 정보 저장하기\n",
    "    data = [content, date, like, place, tags]\n",
    "    return data\n",
    "\n",
    "get_content(driver)\n",
    "        "
   ]
  },
  {
   "cell_type": "code",
   "execution_count": 30,
   "id": "cb4f35eb",
   "metadata": {},
   "outputs": [],
   "source": [
    "# 다음 게시글 열기\n",
    "def move_next(driver):\n",
    "    right = driver.find_element_by_css_selector(\"a.coreSpriteRightPaginationArrow\")\n",
    "    right.click()\n",
    "    time.sleep(3)\n",
    "    \n",
    "move_next(driver)"
   ]
  },
  {
   "cell_type": "code",
   "execution_count": 31,
   "id": "c21efb32",
   "metadata": {},
   "outputs": [],
   "source": [
    "# 인스타그램 크롤링 1\n",
    "from selenium import webdriver\n",
    "from bs4 import BeautifulSoup\n",
    "import time\n",
    "import re\n",
    "\n",
    "# 1. 크롬 브라우져 열기\n",
    "driver = webdriver.Chrome(\"C:/Users/SAMSUNG/Desktop/2021KnuPython/step2/chromedriver\")\n",
    "\n",
    "# 인스타그램 접속하기\n",
    "driver.get(\"https://www.instagram.com\")\n",
    "# 정보를 로딩하는 시간을 기다리기\n",
    "time.sleep(2)\n"
   ]
  },
  {
   "cell_type": "code",
   "execution_count": 32,
   "id": "c7aa60e1",
   "metadata": {},
   "outputs": [],
   "source": [
    "# 인스타그램 로그인하기\n",
    "email = \"haedalbot1108\"\n",
    "input_id = driver.find_elements_by_css_selector(\"input._2hvTZ.pexuQ.zyHYP\")[0]\n",
    "input_id.clear()\n",
    "input_id.send_keys(email)\n",
    "\n",
    "password = \"qwer1234!\"\n",
    "input_pw = driver.find_elements_by_css_selector(\"input._2hvTZ.pexuQ.zyHYP\")[1]\n",
    "input_pw.clear()\n",
    "input_pw.send_keys(password)\n",
    "input_pw.submit()\n",
    "time.sleep(3)"
   ]
  },
  {
   "cell_type": "code",
   "execution_count": 33,
   "id": "5f4e87bc",
   "metadata": {},
   "outputs": [],
   "source": [
    "# 인스타그램 크롤링 2\n",
    "# 2. 인스타그램 검색페이지 URL만들기\n",
    "word = \"대구카페\"\n",
    "url = insta_searching(word)\n",
    "\n",
    "# 3. 검색페이지 접속하기\n",
    "driver.get(url)\n",
    "time.sleep(10)\n",
    "\n",
    "# 4. 첫 번째 게시글 열기\n",
    "# select_first(driver)\n",
    "first = driver.find_element_by_css_selector(\"div._9AhH0\")\n",
    "first.click()\n",
    "time.sleep(3)"
   ]
  },
  {
   "cell_type": "code",
   "execution_count": 36,
   "id": "7408aae1",
   "metadata": {},
   "outputs": [
    {
     "name": "stdout",
     "output_type": "stream",
     "text": [
      "[[' ', '2021-08-13', '외', 'Busan 釜山, South Korea', []], ['롤러 2층도 너무 예뽀', '2021-08-13', '452', '롤러커피 & Roller Coffee', []]]\n"
     ]
    }
   ],
   "source": [
    "# 5. 비어있는 변수(results)만들기\n",
    "results = [ ]\n",
    "\n",
    "# 6. 여러 게시글 수집하기\n",
    "target = 500 # 크롤링할 게시글 수\n",
    "for i in range(target):\n",
    "    # 게시글 수집에 오류 발생시 2초 대기 후, 다음 글로 넘어가\n",
    "    try:\n",
    "        data = get_content(driver)\n",
    "        results.append(data)\n",
    "        move_next(driver)\n",
    "    except:\n",
    "        time.sleep(10)\n",
    "        move_next(driver)\n",
    "\n",
    "print(results[:2])  \n",
    "    "
   ]
  },
  {
   "cell_type": "code",
   "execution_count": 35,
   "id": "f671d9d1",
   "metadata": {},
   "outputs": [],
   "source": [
    "# 크롤링 결과 저장하기\n",
    "import pandas as pd\n",
    "results_df = pd.DataFrame(results)\n",
    "results_df.columns = [\"content\", \"data\", \"like\", \"place\", \"tags\"]\n",
    "results_df.to_excel(\"./files/1_crawling_daegucafe_5.xlsx\")"
   ]
  },
  {
   "cell_type": "code",
   "execution_count": 37,
   "id": "bb3941dc",
   "metadata": {},
   "outputs": [],
   "source": [
    "# 크롤링 결과 저장하기\n",
    "import pandas as pd\n",
    "results_df = pd.DataFrame(results)\n",
    "results_df.columns = [\"content\", \"data\", \"like\", \"place\", \"tags\"]\n",
    "results_df.to_excel(\"./files/1_crawling_daegucafe_500.xlsx\")"
   ]
  },
  {
   "cell_type": "code",
   "execution_count": null,
   "id": "e065875a",
   "metadata": {},
   "outputs": [],
   "source": []
  }
 ],
 "metadata": {
  "kernelspec": {
   "display_name": "Python 3",
   "language": "python",
   "name": "python3"
  },
  "language_info": {
   "codemirror_mode": {
    "name": "ipython",
    "version": 3
   },
   "file_extension": ".py",
   "mimetype": "text/x-python",
   "name": "python",
   "nbconvert_exporter": "python",
   "pygments_lexer": "ipython3",
   "version": "3.8.8"
  }
 },
 "nbformat": 4,
 "nbformat_minor": 5
}
