{
 "cells": [
  {
   "cell_type": "code",
   "execution_count": 1,
   "id": "9db7e03f",
   "metadata": {},
   "outputs": [],
   "source": [
    "# 파이썬 크롬 제어하기 - Chromedriver\n",
    "from selenium import webdriver\n",
    "\n",
    "driver = webdriver.Chrome(\"C:/Users/SAMSUNG/Desktop/2021KnuPython/step2/chromedriver\")"
   ]
  },
  {
   "cell_type": "code",
   "execution_count": 3,
   "id": "45d037a4",
   "metadata": {},
   "outputs": [],
   "source": [
    "import time\n",
    "\n",
    "# 개별 상세페이지로 접속하기\n",
    "driver.get(\"https://store.steampowered.com/app/1263850/Football_Manager_2021/?snr=1_7_7_7000_150_1\")\n",
    "time.sleep(2)"
   ]
  },
  {
   "cell_type": "code",
   "execution_count": 8,
   "id": "de60c707",
   "metadata": {},
   "outputs": [],
   "source": [
    "# 웹 페이지의 html 다운로드\n",
    "single_page = driver.page_source"
   ]
  },
  {
   "cell_type": "code",
   "execution_count": 9,
   "id": "7e207e2a",
   "metadata": {},
   "outputs": [],
   "source": [
    "from bs4 import BeautifulSoup\n",
    "\n",
    "# html 파일의 문자열 정보를 html 형식에 맞게 해석\n",
    "single_page_by_game = BeautifulSoup(single_page, \"html.parser\")\n",
    "# 여기까지 네개 블럭이 selenium과 BeautifulSoup쓰는 기본적인 툴\n",
    "# singlge_page의 한 페이지를 불러왔다고 생각하면 된다 "
   ]
  },
  {
   "cell_type": "code",
   "execution_count": 28,
   "id": "56d893e8",
   "metadata": {},
   "outputs": [
    {
     "data": {
      "text/plain": [
       "'738'"
      ]
     },
     "execution_count": 28,
     "metadata": {},
     "output_type": "execute_result"
    }
   ],
   "source": [
    "# 전반적인 형 가져오기\n",
    "overall_reviews = single_page_by_game.select(\"#review_histogram_recent_section > div.user_reviews_summary_bar > div > span.game_review_summary.positive\")[0].text\n",
    "overall_reviews\n",
    "overall_reviews_count = single_page_by_game.select(\"#review_histogram_rollup_section > div.user_reviews_summary_bar > div > span:nth-child(3)\")[0].text.split(\" \")[0].split(\"(\")[1]\n",
    "overall_reviews_count\n",
    "# split()함수 자세히 알아보기\n",
    "# split(?)[1] 이라면 ?기점으로 왼쪽이 [0], 오른쪽이 [1]\n",
    "recent_reviews_count = single_page_by_game.select(\"#review_histogram_recent_section > div.user_reviews_summary_bar > div > span:nth-child(3)\")[0].text.split(\" \")[0].split(\"(\")[1]\n",
    "recent_reviews_count"
   ]
  },
  {
   "cell_type": "code",
   "execution_count": 31,
   "id": "2e75030f",
   "metadata": {},
   "outputs": [
    {
     "data": {
      "text/plain": [
       "[]"
      ]
     },
     "execution_count": 31,
     "metadata": {},
     "output_type": "execute_result"
    }
   ],
   "source": [
    "# 댓글 작성자\n",
    "writer = single_page_by_game.select(\"div.persona_name > a\")\n",
    "#writer = single_page_by_game.select(\"div.persona_name > a\")[0].text\n",
    "writer"
   ]
  },
  {
   "cell_type": "code",
   "execution_count": 32,
   "id": "2af18e98",
   "metadata": {},
   "outputs": [
    {
     "data": {
      "text/plain": [
       "[]"
      ]
     },
     "execution_count": 32,
     "metadata": {},
     "output_type": "execute_result"
    }
   ],
   "source": [
    "# 댓글 내용\n",
    "comment = single_page_by_game.select(\"div.rightcol > div.content\")\n",
    "comment"
   ]
  },
  {
   "cell_type": "code",
   "execution_count": 33,
   "id": "0dca3b43",
   "metadata": {},
   "outputs": [
    {
     "data": {
      "text/plain": [
       "[]"
      ]
     },
     "execution_count": 33,
     "metadata": {},
     "output_type": "execute_result"
    }
   ],
   "source": [
    "# 댓글 경향\n",
    "tendency = single_page_by_game.select(\"a > div.title.ellipsis\")\n",
    "# tendency = single_page_by_game.select(\"a > div.title.ellipsis\")[1].text\n",
    "tendency"
   ]
  },
  {
   "cell_type": "code",
   "execution_count": 34,
   "id": "c23942a0",
   "metadata": {},
   "outputs": [
    {
     "data": {
      "text/plain": [
       "[]"
      ]
     },
     "execution_count": 34,
     "metadata": {},
     "output_type": "execute_result"
    }
   ],
   "source": [
    "# 댓글 작성 시기\n",
    "created = single_page_by_game.select(\"div.postedDate\")\n",
    "created"
   ]
  },
  {
   "cell_type": "code",
   "execution_count": null,
   "id": "e94837c3",
   "metadata": {},
   "outputs": [],
   "source": []
  }
 ],
 "metadata": {
  "kernelspec": {
   "display_name": "Python 3",
   "language": "python",
   "name": "python3"
  },
  "language_info": {
   "codemirror_mode": {
    "name": "ipython",
    "version": 3
   },
   "file_extension": ".py",
   "mimetype": "text/x-python",
   "name": "python",
   "nbconvert_exporter": "python",
   "pygments_lexer": "ipython3",
   "version": "3.8.8"
  }
 },
 "nbformat": 4,
 "nbformat_minor": 5
}
